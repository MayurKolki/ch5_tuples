{
 "cells": [
  {
   "cell_type": "markdown",
   "metadata": {},
   "source": [
    "# ch5 : tuples"
   ]
  },
  {
   "cell_type": "markdown",
   "metadata": {},
   "source": [
    " iterable,\n",
    "#lists-like-operations\n",
    "\n",
    "# ()\n",
    "# immutable (r/o)\n",
    "\n"
   ]
  },
  {
   "cell_type": "code",
   "execution_count": 1,
   "metadata": {},
   "outputs": [],
   "source": [
    "# empty tuple\n",
    "t1=()\n"
   ]
  },
  {
   "cell_type": "code",
   "execution_count": 2,
   "metadata": {},
   "outputs": [
    {
     "name": "stdout",
     "output_type": "stream",
     "text": [
      "('english', 'sanskrit', 'hindi', 'french')\n"
     ]
    }
   ],
   "source": [
    "# create a tuple\n",
    "t1=('english','sanskrit','hindi','french')\n",
    "print(t1)\n"
   ]
  },
  {
   "cell_type": "code",
   "execution_count": 3,
   "metadata": {},
   "outputs": [
    {
     "data": {
      "text/plain": [
       "tuple"
      ]
     },
     "execution_count": 3,
     "metadata": {},
     "output_type": "execute_result"
    }
   ],
   "source": [
    "type(t1)\n"
   ]
  },
  {
   "cell_type": "code",
   "execution_count": 4,
   "metadata": {},
   "outputs": [
    {
     "data": {
      "text/plain": [
       "4"
      ]
     },
     "execution_count": 4,
     "metadata": {},
     "output_type": "execute_result"
    }
   ],
   "source": [
    "len(t1)"
   ]
  },
  {
   "cell_type": "code",
   "execution_count": 5,
   "metadata": {},
   "outputs": [
    {
     "data": {
      "text/plain": [
       "'english'"
      ]
     },
     "execution_count": 5,
     "metadata": {},
     "output_type": "execute_result"
    }
   ],
   "source": [
    "# access the tuple - using index\n",
    "t1[0]\n",
    "\n"
   ]
  },
  {
   "cell_type": "code",
   "execution_count": 6,
   "metadata": {},
   "outputs": [
    {
     "data": {
      "text/plain": [
       "('english', 'sanskrit', 'hindi')"
      ]
     },
     "execution_count": 6,
     "metadata": {},
     "output_type": "execute_result"
    }
   ],
   "source": [
    "t1[0:3]"
   ]
  },
  {
   "cell_type": "code",
   "execution_count": 7,
   "metadata": {},
   "outputs": [
    {
     "ename": "TypeError",
     "evalue": "'tuple' object does not support item assignment",
     "output_type": "error",
     "traceback": [
      "\u001b[1;31m---------------------------------------------------------------------------\u001b[0m",
      "\u001b[1;31mTypeError\u001b[0m                                 Traceback (most recent call last)",
      "\u001b[1;32m<ipython-input-7-75b48e055f35>\u001b[0m in \u001b[0;36m<module>\u001b[1;34m\u001b[0m\n\u001b[0;32m      1\u001b[0m \u001b[1;31m# immutable\u001b[0m\u001b[1;33m\u001b[0m\u001b[1;33m\u001b[0m\u001b[1;33m\u001b[0m\u001b[0m\n\u001b[1;32m----> 2\u001b[1;33m \u001b[0mt1\u001b[0m\u001b[1;33m[\u001b[0m\u001b[1;36m0\u001b[0m\u001b[1;33m]\u001b[0m \u001b[1;33m=\u001b[0m \u001b[1;34m\"grammar\"\u001b[0m\u001b[1;33m\u001b[0m\u001b[1;33m\u001b[0m\u001b[0m\n\u001b[0m",
      "\u001b[1;31mTypeError\u001b[0m: 'tuple' object does not support item assignment"
     ]
    }
   ],
   "source": [
    "# immutable\n",
    "t1[0] = \"grammar\"\n",
    "\n",
    "'''\n",
    "this will show error because tuple is immutable \n",
    "'''"
   ]
  },
  {
   "cell_type": "code",
   "execution_count": 8,
   "metadata": {},
   "outputs": [
    {
     "data": {
      "text/plain": [
       "list"
      ]
     },
     "execution_count": 8,
     "metadata": {},
     "output_type": "execute_result"
    }
   ],
   "source": [
    "# to change values in tuples, \n",
    "# i) convert tuple to list\n",
    "t1 = list(t1)\n",
    "type(t1)\n"
   ]
  },
  {
   "cell_type": "code",
   "execution_count": 9,
   "metadata": {},
   "outputs": [
    {
     "name": "stdout",
     "output_type": "stream",
     "text": [
      "['english', 'sanskrit', 'hindi', 'french']\n"
     ]
    }
   ],
   "source": [
    "print(t1)"
   ]
  },
  {
   "cell_type": "code",
   "execution_count": 10,
   "metadata": {},
   "outputs": [
    {
     "name": "stdout",
     "output_type": "stream",
     "text": [
      "['grammar', 'sanskrit', 'hindi', 'french']\n"
     ]
    }
   ],
   "source": [
    "# ii) make changes to the list\n",
    "t1[0] = \"grammar\"\n",
    "print(t1)\n",
    "\n"
   ]
  },
  {
   "cell_type": "code",
   "execution_count": 11,
   "metadata": {},
   "outputs": [
    {
     "name": "stdout",
     "output_type": "stream",
     "text": [
      "('grammar', 'sanskrit', 'hindi', 'french')\n"
     ]
    }
   ],
   "source": [
    "# iii) convert list to tuple\n",
    "t1 = tuple(t1)\n",
    "print(t1)\n"
   ]
  },
  {
   "cell_type": "code",
   "execution_count": 12,
   "metadata": {},
   "outputs": [
    {
     "data": {
      "text/plain": [
       "('german', 'mandarin', 'tamil', 'marathi', 'malayalam')"
      ]
     },
     "execution_count": 12,
     "metadata": {},
     "output_type": "execute_result"
    }
   ],
   "source": [
    "# concatenate new values to a tuple\n",
    "# create a new tuple with new values\n",
    "t2=('german','mandarin','tamil','marathi','malayalam')\n",
    "t2"
   ]
  },
  {
   "cell_type": "code",
   "execution_count": 13,
   "metadata": {},
   "outputs": [
    {
     "name": "stdout",
     "output_type": "stream",
     "text": [
      "('grammar', 'sanskrit', 'hindi', 'french', 'german', 'mandarin', 'tamil', 'marathi', 'malayalam')\n"
     ]
    }
   ],
   "source": [
    "# concatenate new tuple with old tuple\n",
    "t1=t1+t2\n",
    "\n",
    "print(t1)"
   ]
  },
  {
   "cell_type": "code",
   "execution_count": 15,
   "metadata": {},
   "outputs": [
    {
     "data": {
      "text/plain": [
       "False"
      ]
     },
     "execution_count": 15,
     "metadata": {},
     "output_type": "execute_result"
    }
   ],
   "source": [
    "# find if a word exists in the tuple\n",
    "'spanish' in t2"
   ]
  },
  {
   "cell_type": "code",
   "execution_count": 16,
   "metadata": {},
   "outputs": [
    {
     "data": {
      "text/plain": [
       "True"
      ]
     },
     "execution_count": 16,
     "metadata": {},
     "output_type": "execute_result"
    }
   ],
   "source": [
    "'tamil' in t2"
   ]
  },
  {
   "cell_type": "code",
   "execution_count": 17,
   "metadata": {},
   "outputs": [
    {
     "data": {
      "text/plain": [
       "7"
      ]
     },
     "execution_count": 17,
     "metadata": {},
     "output_type": "execute_result"
    }
   ],
   "source": [
    "# finds the position of the element\n",
    "t1.index('marathi')"
   ]
  },
  {
   "cell_type": "code",
   "execution_count": 18,
   "metadata": {},
   "outputs": [
    {
     "name": "stdout",
     "output_type": "stream",
     "text": [
      "('LPT11', 'Asus Notebook', 45000, True, 4.5)\n"
     ]
    }
   ],
   "source": [
    "\n",
    "# pack/unpack a tuple\n",
    "rec=('LPT11','Asus Notebook',45000,True,4.5)\n",
    "print(rec)\n"
   ]
  },
  {
   "cell_type": "code",
   "execution_count": 19,
   "metadata": {},
   "outputs": [
    {
     "name": "stdout",
     "output_type": "stream",
     "text": [
      "LPT11 Asus Notebook 45000 True 4.5\n"
     ]
    }
   ],
   "source": [
    "# unpack\n",
    "icode,iname,iprice,iavail,irate=rec\n",
    "print(icode,iname,iprice,iavail,irate)\n"
   ]
  },
  {
   "cell_type": "code",
   "execution_count": 20,
   "metadata": {},
   "outputs": [
    {
     "name": "stdout",
     "output_type": "stream",
     "text": [
      "(('LPT11', 'Asus Notebook', 45000, True, 4.5), ('MBL904', 'Mobile Samsung', 25000, True, 3.2), (4771949, 'HP Printer', 5610, True, 2.8), ('ABC006', 'e-Book', 1100, True, 4.0))\n"
     ]
    }
   ],
   "source": [
    "\n",
    "# nested tuples (tuple of tuples)\n",
    "rec2=(\n",
    "     ('LPT11','Asus Notebook',45000,True,4.5),\n",
    "     ('MBL904','Mobile Samsung',25000,True,3.2),\n",
    "     (4771949,'HP Printer',5610,True,2.8),\n",
    "     ('ABC006','e-Book',1100,True,4.0)\n",
    "    )\n",
    "\n",
    "print(rec2)\n"
   ]
  },
  {
   "cell_type": "code",
   "execution_count": 21,
   "metadata": {},
   "outputs": [
    {
     "data": {
      "text/plain": [
       "4"
      ]
     },
     "execution_count": 21,
     "metadata": {},
     "output_type": "execute_result"
    }
   ],
   "source": [
    "len(rec2)"
   ]
  },
  {
   "cell_type": "code",
   "execution_count": 22,
   "metadata": {},
   "outputs": [],
   "source": [
    "# suppose i have purchased these products. \n",
    "# what is the total cost ?\n",
    "totalprice = 0\n"
   ]
  },
  {
   "cell_type": "code",
   "execution_count": 23,
   "metadata": {},
   "outputs": [
    {
     "name": "stdout",
     "output_type": "stream",
     "text": [
      "The total cost is 76710\n"
     ]
    }
   ],
   "source": [
    "\n",
    "# iterable object\n",
    "for e in rec2:\n",
    "    totalprice = totalprice + e[2]\n",
    "    \n",
    "print(\"The total cost is\", totalprice)    \n",
    "    \n"
   ]
  },
  {
   "cell_type": "code",
   "execution_count": 24,
   "metadata": {},
   "outputs": [
    {
     "data": {
      "text/plain": [
       "(('LPT11', 'MBL904', 4771949, 'ABC006'),\n",
       " ('Asus Notebook', 'Mobile Samsung', 'HP Printer', 'e-Book'),\n",
       " (45000, 25000, 5610, 1100),\n",
       " (True, True, True, True),\n",
       " (4.5, 3.2, 2.8, 4.0))"
      ]
     },
     "execution_count": 24,
     "metadata": {},
     "output_type": "execute_result"
    }
   ],
   "source": [
    "\n",
    "# binding the nested tuple\n",
    "tuple(zip(*rec2))\n"
   ]
  },
  {
   "cell_type": "code",
   "execution_count": 25,
   "metadata": {},
   "outputs": [
    {
     "data": {
      "text/plain": [
       "[('LPT11', 'MBL904', 4771949, 'ABC006'),\n",
       " ('Asus Notebook', 'Mobile Samsung', 'HP Printer', 'e-Book'),\n",
       " (45000, 25000, 5610, 1100),\n",
       " (True, True, True, True),\n",
       " (4.5, 3.2, 2.8, 4.0)]"
      ]
     },
     "execution_count": 25,
     "metadata": {},
     "output_type": "execute_result"
    }
   ],
   "source": [
    "list(zip(*rec2))"
   ]
  },
  {
   "cell_type": "code",
   "execution_count": 26,
   "metadata": {},
   "outputs": [
    {
     "data": {
      "text/plain": [
       "20"
      ]
     },
     "execution_count": 26,
     "metadata": {},
     "output_type": "execute_result"
    }
   ],
   "source": [
    "# create a range of numbers from 1-20 and store in a tuple\n",
    "\n",
    "num1 = tuple(range(1,21))\n",
    "\n",
    "max(num1)\n"
   ]
  },
  {
   "cell_type": "code",
   "execution_count": 27,
   "metadata": {},
   "outputs": [
    {
     "data": {
      "text/plain": [
       "1"
      ]
     },
     "execution_count": 27,
     "metadata": {},
     "output_type": "execute_result"
    }
   ],
   "source": [
    "min(num1)\n",
    "\n"
   ]
  },
  {
   "cell_type": "raw",
   "metadata": {},
   "source": [
    "# create a tuple of 10 grocery items in the following format\n",
    "\n",
    "itemname, quantity, rate, total\n",
    "\n",
    "# i) total -> should be calculated as quantity*rate\n",
    "# ii) calculate the bill total\n",
    "# iii) identify the costliest and the cheapest product (based on the total)\n",
    "\n",
    "\n",
    "# round about method \n"
   ]
  },
  {
   "cell_type": "code",
   "execution_count": 28,
   "metadata": {},
   "outputs": [
    {
     "data": {
      "text/plain": [
       "(('rice', 10, 59), ('bread', 4, 30), ('milk', 2, 36))"
      ]
     },
     "execution_count": 28,
     "metadata": {},
     "output_type": "execute_result"
    }
   ],
   "source": [
    "groc=( ('rice',10,59), ('bread',4,30), ('milk',2,36) )\n",
    "groc\n"
   ]
  },
  {
   "cell_type": "code",
   "execution_count": 29,
   "metadata": {},
   "outputs": [],
   "source": [
    "cost = [590,120,72]\n",
    "\n",
    "groc = list(groc)\n",
    "\n"
   ]
  },
  {
   "cell_type": "code",
   "execution_count": 33,
   "metadata": {},
   "outputs": [
    {
     "data": {
      "text/plain": [
       "[('rice', 10, 59, 590, 590, 590),\n",
       " ('bread', 4, 30, 120, 120, 120),\n",
       " ('milk', 2, 36, 72, 72, 72)]"
      ]
     },
     "execution_count": 33,
     "metadata": {},
     "output_type": "execute_result"
    }
   ],
   "source": [
    "for i in range(0,len(groc)):\n",
    "    groc[i] = list(groc[i])\n",
    "    groc[i].append(cost[i])\n",
    "    groc[i] = tuple(groc[i])\n",
    "groc\n",
    "\n",
    "\n"
   ]
  },
  {
   "cell_type": "code",
   "execution_count": 35,
   "metadata": {},
   "outputs": [
    {
     "data": {
      "text/plain": [
       "(('rice', 'bread', 'milk'),\n",
       " (10, 4, 2),\n",
       " (59, 30, 36),\n",
       " (590, 120, 72),\n",
       " (590, 120, 72),\n",
       " (590, 120, 72))"
      ]
     },
     "execution_count": 35,
     "metadata": {},
     "output_type": "execute_result"
    }
   ],
   "source": [
    "# binding the nested tuple\n",
    "tuple(zip(*groc))\n"
   ]
  },
  {
   "cell_type": "raw",
   "metadata": {},
   "source": [
    "##########################################################################"
   ]
  },
  {
   "cell_type": "code",
   "execution_count": 36,
   "metadata": {},
   "outputs": [
    {
     "name": "stdout",
     "output_type": "stream",
     "text": [
      "(('Rice', 5, 50, 0), ('sugar', 3, 25, 0), ('milk', 1, 55, 0), ('bread', 4, 25, 0), ('biscuit', 10, 10, 0), ('eggs', 30, 6, 0), ('oelive oil', 2, 180, 0), ('toothpaste', 2, 20, 0), ('soap', 7, 8, 0), ('silk chocolate', 1, 100, 0))\n"
     ]
    }
   ],
   "source": [
    "grocery=(\n",
    "('Rice',5,50,0),\n",
    "('sugar',3,25,0),\n",
    "('milk',1,55,0),\n",
    "('bread',4,25,0),\n",
    "('biscuit',10,10,0),\n",
    "('eggs',30,6,0),\n",
    "('oelive oil',2,180,0),\n",
    "('toothpaste',2,20,0),\n",
    "('soap',7,8,0),\n",
    "('silk chocolate',1,100,0)\n",
    ")\n",
    "print(grocery) #same as zip\n"
   ]
  },
  {
   "cell_type": "code",
   "execution_count": 37,
   "metadata": {},
   "outputs": [
    {
     "name": "stdout",
     "output_type": "stream",
     "text": [
      "[('Rice', 5, 50, 0), ('sugar', 3, 25, 0), ('milk', 1, 55, 0), ('bread', 4, 25, 0), ('biscuit', 10, 10, 0), ('eggs', 30, 6, 0), ('oelive oil', 2, 180, 0), ('toothpaste', 2, 20, 0), ('soap', 7, 8, 0), ('silk chocolate', 1, 100, 0)]\n"
     ]
    },
    {
     "data": {
      "text/plain": [
       "list"
      ]
     },
     "execution_count": 37,
     "metadata": {},
     "output_type": "execute_result"
    }
   ],
   "source": [
    "#1)total ->should be claculated by quantity*rate \n",
    "grocery=list(grocery)\n",
    "print(grocery)\n",
    "type(grocery)\n"
   ]
  },
  {
   "cell_type": "code",
   "execution_count": 38,
   "metadata": {},
   "outputs": [
    {
     "name": "stdout",
     "output_type": "stream",
     "text": [
      "[('Rice', 5, 50, 250), ('sugar', 3, 25, 75), ('milk', 1, 55, 55), ('bread', 4, 25, 100), ('biscuit', 10, 10, 100), ('eggs', 30, 6, 180), ('oelive oil', 2, 180, 360), ('toothpaste', 2, 20, 40), ('soap', 7, 8, 56), ('silk chocolate', 1, 100, 100)]\n"
     ]
    },
    {
     "data": {
      "text/plain": [
       "(('Rice', 5, 50, 250),\n",
       " ('sugar', 3, 25, 75),\n",
       " ('milk', 1, 55, 55),\n",
       " ('bread', 4, 25, 100),\n",
       " ('biscuit', 10, 10, 100),\n",
       " ('eggs', 30, 6, 180),\n",
       " ('oelive oil', 2, 180, 360),\n",
       " ('toothpaste', 2, 20, 40),\n",
       " ('soap', 7, 8, 56),\n",
       " ('silk chocolate', 1, 100, 100))"
      ]
     },
     "execution_count": 38,
     "metadata": {},
     "output_type": "execute_result"
    }
   ],
   "source": [
    "\n",
    "    for i in range(0,len(grocery)):\n",
    "             grocery[i]=list(grocery[i])\n",
    "             grocery[i][3] = grocery[i][1]*grocery[i][2]\n",
    "             grocery[i] =tuple(grocery[i])\n",
    "             \n",
    "    print(grocery)\n",
    "grocery=tuple(grocery)         \n",
    "grocery        \n",
    "         "
   ]
  },
  {
   "cell_type": "code",
   "execution_count": 39,
   "metadata": {},
   "outputs": [
    {
     "data": {
      "text/plain": [
       "1316"
      ]
     },
     "execution_count": 39,
     "metadata": {},
     "output_type": "execute_result"
    }
   ],
   "source": [
    "#2)calculate the bill total\n",
    "tuple(zip(*grocery))\n",
    "bill=tuple(zip(*grocery))[3]\n",
    "sum(bill)"
   ]
  },
  {
   "cell_type": "code",
   "execution_count": 40,
   "metadata": {},
   "outputs": [
    {
     "data": {
      "text/plain": [
       "360"
      ]
     },
     "execution_count": 40,
     "metadata": {},
     "output_type": "execute_result"
    }
   ],
   "source": [
    "#3)identify the costlier and the cheapest product (based on the total cost )\n",
    "\n",
    "tuple(zip(*grocery))\n",
    "groitm=tuple(zip(*grocery))[3]\n",
    "max(groitm)\n"
   ]
  },
  {
   "cell_type": "code",
   "execution_count": 41,
   "metadata": {},
   "outputs": [
    {
     "data": {
      "text/plain": [
       "40"
      ]
     },
     "execution_count": 41,
     "metadata": {},
     "output_type": "execute_result"
    }
   ],
   "source": [
    "min(groitm)"
   ]
  }
 ],
 "metadata": {
  "kernelspec": {
   "display_name": "Python 3",
   "language": "python",
   "name": "python3"
  },
  "language_info": {
   "codemirror_mode": {
    "name": "ipython",
    "version": 3
   },
   "file_extension": ".py",
   "mimetype": "text/x-python",
   "name": "python",
   "nbconvert_exporter": "python",
   "pygments_lexer": "ipython3",
   "version": "3.7.6"
  }
 },
 "nbformat": 4,
 "nbformat_minor": 4
}
